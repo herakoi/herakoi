{
 "cells": [
  {
   "cell_type": "code",
   "execution_count": 1,
   "id": "f884d2be",
   "metadata": {
    "execution": {
     "iopub.execute_input": "2023-06-13T12:46:21.947021Z",
     "iopub.status.busy": "2023-06-13T12:46:21.946330Z",
     "iopub.status.idle": "2023-06-13T12:46:22.111067Z",
     "shell.execute_reply": "2023-06-13T12:46:22.110819Z"
    }
   },
   "outputs": [
    {
     "ename": "ModuleNotFoundError",
     "evalue": "No module named 'herakoi'",
     "output_type": "error",
     "traceback": [
      "\u001b[0;31m---------------------------------------------------------------------------\u001b[0m",
      "\u001b[0;31mModuleNotFoundError\u001b[0m                       Traceback (most recent call last)",
      "Cell \u001b[0;32mIn[1], line 1\u001b[0m\n\u001b[0;32m----> 1\u001b[0m \u001b[38;5;28;01mimport\u001b[39;00m \u001b[38;5;21;01mherakoi\u001b[39;00m\n",
      "\u001b[0;31mModuleNotFoundError\u001b[0m: No module named 'herakoi'"
     ]
    }
   ],
   "source": [
    "import herakoi"
   ]
  },
  {
   "cell_type": "code",
   "execution_count": null,
   "id": "74a4edcc",
   "metadata": {},
   "outputs": [],
   "source": []
  }
 ],
 "metadata": {
  "kernelspec": {
   "display_name": "Python 3 (ipykernel)",
   "language": "python",
   "name": "python3"
  },
  "language_info": {
   "codemirror_mode": {
    "name": "ipython",
    "version": 3
   },
   "file_extension": ".py",
   "mimetype": "text/x-python",
   "name": "python",
   "nbconvert_exporter": "python",
   "pygments_lexer": "ipython3",
   "version": "3.10.10"
  }
 },
 "nbformat": 4,
 "nbformat_minor": 5
}
